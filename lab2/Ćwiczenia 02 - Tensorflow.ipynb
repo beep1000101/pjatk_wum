{
  "cells": [
    {
      "cell_type": "code",
      "source": [
        "!pip install tensorflow"
      ],
      "metadata": {
        "id": "AbNUtSRiZInJ",
        "outputId": "a2f4ecb0-cf89-4c3b-d26a-539482bfdd35",
        "colab": {
          "base_uri": "https://localhost:8080/"
        }
      },
      "execution_count": 1,
      "outputs": [
        {
          "output_type": "stream",
          "name": "stdout",
          "text": [
            "Requirement already satisfied: tensorflow in /usr/local/lib/python3.11/dist-packages (2.18.0)\n",
            "Requirement already satisfied: absl-py>=1.0.0 in /usr/local/lib/python3.11/dist-packages (from tensorflow) (1.4.0)\n",
            "Requirement already satisfied: astunparse>=1.6.0 in /usr/local/lib/python3.11/dist-packages (from tensorflow) (1.6.3)\n",
            "Requirement already satisfied: flatbuffers>=24.3.25 in /usr/local/lib/python3.11/dist-packages (from tensorflow) (25.2.10)\n",
            "Requirement already satisfied: gast!=0.5.0,!=0.5.1,!=0.5.2,>=0.2.1 in /usr/local/lib/python3.11/dist-packages (from tensorflow) (0.6.0)\n",
            "Requirement already satisfied: google-pasta>=0.1.1 in /usr/local/lib/python3.11/dist-packages (from tensorflow) (0.2.0)\n",
            "Requirement already satisfied: libclang>=13.0.0 in /usr/local/lib/python3.11/dist-packages (from tensorflow) (18.1.1)\n",
            "Requirement already satisfied: opt-einsum>=2.3.2 in /usr/local/lib/python3.11/dist-packages (from tensorflow) (3.4.0)\n",
            "Requirement already satisfied: packaging in /usr/local/lib/python3.11/dist-packages (from tensorflow) (24.2)\n",
            "Requirement already satisfied: protobuf!=4.21.0,!=4.21.1,!=4.21.2,!=4.21.3,!=4.21.4,!=4.21.5,<6.0.0dev,>=3.20.3 in /usr/local/lib/python3.11/dist-packages (from tensorflow) (5.29.3)\n",
            "Requirement already satisfied: requests<3,>=2.21.0 in /usr/local/lib/python3.11/dist-packages (from tensorflow) (2.32.3)\n",
            "Requirement already satisfied: setuptools in /usr/local/lib/python3.11/dist-packages (from tensorflow) (75.1.0)\n",
            "Requirement already satisfied: six>=1.12.0 in /usr/local/lib/python3.11/dist-packages (from tensorflow) (1.17.0)\n",
            "Requirement already satisfied: termcolor>=1.1.0 in /usr/local/lib/python3.11/dist-packages (from tensorflow) (2.5.0)\n",
            "Requirement already satisfied: typing-extensions>=3.6.6 in /usr/local/lib/python3.11/dist-packages (from tensorflow) (4.12.2)\n",
            "Requirement already satisfied: wrapt>=1.11.0 in /usr/local/lib/python3.11/dist-packages (from tensorflow) (1.17.2)\n",
            "Requirement already satisfied: grpcio<2.0,>=1.24.3 in /usr/local/lib/python3.11/dist-packages (from tensorflow) (1.71.0)\n",
            "Requirement already satisfied: tensorboard<2.19,>=2.18 in /usr/local/lib/python3.11/dist-packages (from tensorflow) (2.18.0)\n",
            "Requirement already satisfied: keras>=3.5.0 in /usr/local/lib/python3.11/dist-packages (from tensorflow) (3.8.0)\n",
            "Requirement already satisfied: numpy<2.1.0,>=1.26.0 in /usr/local/lib/python3.11/dist-packages (from tensorflow) (2.0.2)\n",
            "Requirement already satisfied: h5py>=3.11.0 in /usr/local/lib/python3.11/dist-packages (from tensorflow) (3.13.0)\n",
            "Requirement already satisfied: ml-dtypes<0.5.0,>=0.4.0 in /usr/local/lib/python3.11/dist-packages (from tensorflow) (0.4.1)\n",
            "Requirement already satisfied: tensorflow-io-gcs-filesystem>=0.23.1 in /usr/local/lib/python3.11/dist-packages (from tensorflow) (0.37.1)\n",
            "Requirement already satisfied: wheel<1.0,>=0.23.0 in /usr/local/lib/python3.11/dist-packages (from astunparse>=1.6.0->tensorflow) (0.45.1)\n",
            "Requirement already satisfied: rich in /usr/local/lib/python3.11/dist-packages (from keras>=3.5.0->tensorflow) (13.9.4)\n",
            "Requirement already satisfied: namex in /usr/local/lib/python3.11/dist-packages (from keras>=3.5.0->tensorflow) (0.0.8)\n",
            "Requirement already satisfied: optree in /usr/local/lib/python3.11/dist-packages (from keras>=3.5.0->tensorflow) (0.14.1)\n",
            "Requirement already satisfied: charset-normalizer<4,>=2 in /usr/local/lib/python3.11/dist-packages (from requests<3,>=2.21.0->tensorflow) (3.4.1)\n",
            "Requirement already satisfied: idna<4,>=2.5 in /usr/local/lib/python3.11/dist-packages (from requests<3,>=2.21.0->tensorflow) (3.10)\n",
            "Requirement already satisfied: urllib3<3,>=1.21.1 in /usr/local/lib/python3.11/dist-packages (from requests<3,>=2.21.0->tensorflow) (2.3.0)\n",
            "Requirement already satisfied: certifi>=2017.4.17 in /usr/local/lib/python3.11/dist-packages (from requests<3,>=2.21.0->tensorflow) (2025.1.31)\n",
            "Requirement already satisfied: markdown>=2.6.8 in /usr/local/lib/python3.11/dist-packages (from tensorboard<2.19,>=2.18->tensorflow) (3.7)\n",
            "Requirement already satisfied: tensorboard-data-server<0.8.0,>=0.7.0 in /usr/local/lib/python3.11/dist-packages (from tensorboard<2.19,>=2.18->tensorflow) (0.7.2)\n",
            "Requirement already satisfied: werkzeug>=1.0.1 in /usr/local/lib/python3.11/dist-packages (from tensorboard<2.19,>=2.18->tensorflow) (3.1.3)\n",
            "Requirement already satisfied: MarkupSafe>=2.1.1 in /usr/local/lib/python3.11/dist-packages (from werkzeug>=1.0.1->tensorboard<2.19,>=2.18->tensorflow) (3.0.2)\n",
            "Requirement already satisfied: markdown-it-py>=2.2.0 in /usr/local/lib/python3.11/dist-packages (from rich->keras>=3.5.0->tensorflow) (3.0.0)\n",
            "Requirement already satisfied: pygments<3.0.0,>=2.13.0 in /usr/local/lib/python3.11/dist-packages (from rich->keras>=3.5.0->tensorflow) (2.18.0)\n",
            "Requirement already satisfied: mdurl~=0.1 in /usr/local/lib/python3.11/dist-packages (from markdown-it-py>=2.2.0->rich->keras>=3.5.0->tensorflow) (0.1.2)\n"
          ]
        }
      ]
    },
    {
      "cell_type": "markdown",
      "metadata": {
        "id": "k7h-oI2RZHtY"
      },
      "source": [
        "# Tensorflow"
      ]
    },
    {
      "cell_type": "code",
      "execution_count": 2,
      "metadata": {
        "id": "s3tGIQKMZHtZ",
        "outputId": "165c920e-47fc-4c63-e3eb-b49e18c716ab",
        "colab": {
          "base_uri": "https://localhost:8080/"
        }
      },
      "outputs": [
        {
          "output_type": "execute_result",
          "data": {
            "text/plain": [
              "<tf.Tensor: shape=(2, 3), dtype=float64, numpy=\n",
              "array([[1., 2., 3.],\n",
              "       [4., 5., 6.]])>"
            ]
          },
          "metadata": {},
          "execution_count": 2
        }
      ],
      "source": [
        "import tensorflow as tf\n",
        "X = tf.constant([[1, 2, 3], [4, 5, 6]], dtype=tf.float64)\n",
        "Y = tf.constant([[2, 3, 4], [5, 6, 7]], dtype=tf.float64)\n",
        "X"
      ]
    },
    {
      "cell_type": "code",
      "execution_count": 4,
      "metadata": {
        "id": "cifKXDUzZHtb",
        "outputId": "43a13e37-b57e-4daa-ee84-854ecc5fc3b5",
        "colab": {
          "base_uri": "https://localhost:8080/"
        }
      },
      "outputs": [
        {
          "output_type": "stream",
          "name": "stdout",
          "text": [
            "tf.Tensor(\n",
            "[[11. 12. 13.]\n",
            " [14. 15. 16.]], shape=(2, 3), dtype=float64)\n",
            "tf.Tensor(\n",
            "[[ 3.  5.  7.]\n",
            " [ 9. 11. 13.]], shape=(2, 3), dtype=float64)\n",
            "tf.Tensor(\n",
            "[[ 2.  6. 12.]\n",
            " [20. 30. 42.]], shape=(2, 3), dtype=float64)\n",
            "tf.Tensor(\n",
            "[[20. 38.]\n",
            " [47. 92.]], shape=(2, 2), dtype=float64)\n",
            "tf.Tensor(\n",
            "[[ 1.  4.  9.]\n",
            " [16. 25. 36.]], shape=(2, 3), dtype=float64)\n",
            "tf.Tensor(\n",
            "[[  2.71828183   7.3890561   20.08553692]\n",
            " [ 54.59815003 148.4131591  403.42879349]], shape=(2, 3), dtype=float64)\n",
            "tf.Tensor(21.0, shape=(), dtype=float64)\n"
          ]
        }
      ],
      "source": [
        "print(X + 10)\n",
        "print(X + Y)\n",
        "print(X * Y)\n",
        "print(tf.matmul(X, tf.transpose(Y)))\n",
        "print(tf.square(X))\n",
        "print(tf.exp(X))\n",
        "print(tf.reduce_sum(X))"
      ]
    },
    {
      "cell_type": "code",
      "execution_count": 5,
      "metadata": {
        "id": "F_QEwHW3ZHtb",
        "outputId": "d4a0cbcb-6ab5-49d1-e9e9-0d4e76699f66",
        "colab": {
          "base_uri": "https://localhost:8080/"
        }
      },
      "outputs": [
        {
          "output_type": "execute_result",
          "data": {
            "text/plain": [
              "<tf.Variable 'Variable:0' shape=(2, 3) dtype=float64, numpy=\n",
              "array([[2., 2., 2.],\n",
              "       [2., 2., 2.]])>"
            ]
          },
          "metadata": {},
          "execution_count": 5
        }
      ],
      "source": [
        "Z = tf.Variable([[2, 2, 2], [2, 2, 2]], dtype=tf.float64)\n",
        "Z"
      ]
    },
    {
      "cell_type": "code",
      "execution_count": 7,
      "metadata": {
        "id": "cX5Nvre_ZHtc",
        "outputId": "6ada2be0-63fc-4ee2-9451-c613e1d9ef53",
        "colab": {
          "base_uri": "https://localhost:8080/"
        }
      },
      "outputs": [
        {
          "output_type": "execute_result",
          "data": {
            "text/plain": [
              "<tf.Variable 'Variable:0' shape=(2, 3) dtype=float64, numpy=\n",
              "array([[ 2.,  3.,  4.],\n",
              "       [ 5., 13.,  7.]])>"
            ]
          },
          "metadata": {},
          "execution_count": 7
        }
      ],
      "source": [
        "Z.assign(X)\n",
        "Z[1, 1].assign(12)\n",
        "Z.assign_add(Y) # +=\n",
        "Z.assign_sub(X) # -=\n",
        "Z"
      ]
    },
    {
      "cell_type": "markdown",
      "metadata": {
        "id": "tHjWuAQsZHtd"
      },
      "source": [
        "## GradientTape"
      ]
    },
    {
      "cell_type": "code",
      "execution_count": 8,
      "metadata": {
        "id": "I_aanmLWZHtd",
        "outputId": "a5fb9529-bf0e-4164-9f32-560c81ed2065",
        "colab": {
          "base_uri": "https://localhost:8080/"
        }
      },
      "outputs": [
        {
          "output_type": "stream",
          "name": "stdout",
          "text": [
            "tf.Tensor(15.0, shape=(), dtype=float32) tf.Tensor(4.0, shape=(), dtype=float32)\n"
          ]
        }
      ],
      "source": [
        "def f(x1, x2):\n",
        "    return 2. * tf.square(x1) + 3. * x1 + 4. * x2 + 5.\n",
        "\n",
        "x1 = tf.Variable(3.)\n",
        "x2 = tf.Variable(4.)\n",
        "\n",
        "with tf.GradientTape() as tape:\n",
        "    y = f(x1, x2)\n",
        "\n",
        "dy_dx1, dy_dx2 = tape.gradient(y, [x1, x2])\n",
        "print(dy_dx1, dy_dx2)"
      ]
    },
    {
      "cell_type": "markdown",
      "metadata": {
        "id": "IJOMb3i8ZHtd"
      },
      "source": [
        "## Zadanie 1\n",
        "Zastosuj regułę łańcuchową aby obliczyć $\\frac{\\partial y}{\\partial x_1}$ i $\\frac{\\partial y}{\\partial x_2}$ dla:\n",
        "1. $y = \\sigma(f(x_1, x_2))$, gdzie $f(x_1, x_2)= 2 x_1 + 3 x_2$ i $\\sigma(x)=\\frac{e^x}{1 + e^x}$,\n",
        "2. $y = g(f(x_1, x_2))$, gdzie $f(x_1, x_2)= x_1^2 + 2 x_2$ i $g(x)=\\sin x$.\n",
        "\n",
        "Następnie oblicz pochodne funkji za pomocą `GradientTape` i porównaj wyniki."
      ]
    },
    {
      "cell_type": "code",
      "execution_count": 9,
      "metadata": {
        "id": "jaidii0jZHtd",
        "outputId": "c4aa4341-3cb0-4292-83aa-8856e89b778d",
        "colab": {
          "base_uri": "https://localhost:8080/"
        }
      },
      "outputs": [
        {
          "output_type": "stream",
          "name": "stdout",
          "text": [
            "(0.3932238817214966, 0.5898358821868896)\n",
            "(0.3932238817214966, 0.5898358225822449)\n"
          ]
        }
      ],
      "source": [
        "import tensorflow as tf\n",
        "import numpy as np\n",
        "def sigma(x):\n",
        "    return 1. / (1. + tf.exp(-x))\n",
        "\n",
        "def f(x1, x2):\n",
        "    return 2. * x1 + 3. * x2\n",
        "\n",
        "def F(x1, x2):\n",
        "    return sigma(f(x1, x2))\n",
        "\n",
        "def F_prime(x1, x2):\n",
        "    dy_dx1 = 2. * sigma(f(x1, x2)) * (1 - sigma(f(x1, x2)))\n",
        "    dy_dx2 = 3. * sigma(f(x1, x2)) * (1 - sigma(f(x1, x2)))\n",
        "    return float(dy_dx1), float(dy_dx2)\n",
        "\n",
        "def F_prime_tf(x1, x2):\n",
        "    with tf.GradientTape() as tape:\n",
        "        y = F(x1, x2)\n",
        "\n",
        "    dy_dx1, dy_dx2 = tape.gradient(y, [x1, x2])\n",
        "    return float(dy_dx1), float(dy_dx2)\n",
        "\n",
        "x1 = tf.Variable(-2.)\n",
        "x2 = tf.Variable(1.)\n",
        "\n",
        "print(F_prime(x1, x2))\n",
        "print(F_prime_tf(x1, x2))\n"
      ]
    },
    {
      "cell_type": "markdown",
      "source": [
        "# B"
      ],
      "metadata": {
        "id": "76UKt5yAb0Dy"
      }
    },
    {
      "cell_type": "code",
      "source": [
        "def g(x):\n",
        "  result = tf.sin(x)\n",
        "  return result\n",
        "\n",
        "def f(x1, x2):\n",
        "  result = x1**2 + 2.*x2\n",
        "  return result\n",
        "\n",
        "def function(x1, x2):\n",
        "  result = g(f(x1, x2))\n",
        "  return result\n",
        "\n",
        "def function_derivative(x1, x2):\n",
        "  dy_dx1 = tf.cos(f(x1, x2)) * 2. * x1\n",
        "  dy_dx2 = tf.cos(f(x1, x2)) * + 2\n",
        "  return float(dy_dx1), float(dy_dx2)\n",
        "\n",
        "def function_derivative_tf(x1, x2):\n",
        "  with tf.GradientTape() as tape:\n",
        "    tape.watch(x1)\n",
        "    tape.watch(x2)\n",
        "    y = function(x1, x2)\n",
        "\n",
        "  dy_dx1, dy_dx2 = tape.gradient(y, [x1, x2])\n",
        "  return float(dy_dx1), float(dy_dx2)\n",
        "\n",
        "x1 = tf.Variable(-3.)\n",
        "x2 = tf.Variable(2.)\n",
        "\n",
        "print(function_derivative(x1, x2))\n",
        "print(function_derivative_tf(x1, x2))\n"
      ],
      "metadata": {
        "id": "HGoQpqlnb2UW",
        "outputId": "6de8ebcb-c728-4355-a2e6-f0a4bfac140a",
        "colab": {
          "base_uri": "https://localhost:8080/"
        }
      },
      "execution_count": 37,
      "outputs": [
        {
          "output_type": "stream",
          "name": "stdout",
          "text": [
            "(-5.444680690765381, 1.8148936033248901)\n",
            "(-5.444680690765381, 1.8148936033248901)\n"
          ]
        }
      ]
    },
    {
      "cell_type": "markdown",
      "metadata": {
        "id": "qB4X1Zm9ZHte"
      },
      "source": [
        "## Zadanie 2\n",
        "\n",
        "1. Zmodyfikuj implementację perceptronu z Ćwiczeń 1. tak, aby stosowała sigmoidalną funkcję aktywacji.\n",
        "2. Zmodyfikuj poniższą przykładową implementację perceptronu tak aby, stosowała `GradientTape` zamiast wzorów do obliczania gradientów."
      ]
    },
    {
      "cell_type": "code",
      "execution_count": 47,
      "metadata": {
        "id": "rou8m3pIZHtf"
      },
      "outputs": [],
      "source": [
        "import numpy as np\n",
        "import tensorflow as tf\n",
        "\n",
        "def sigma(z):\n",
        "    return 1. / (1. + tf.exp(-z))\n",
        "\n",
        "class Perceptron:\n",
        "    def __init__(self, learning_rate=0.01, epochs=100):\n",
        "        self.learning_rate = learning_rate\n",
        "        self.epochs = epochs\n",
        "\n",
        "    def predict(self, X):\n",
        "        Z = tf.linalg.matvec(X, self.weights) + self.bias\n",
        "        return sigma(Z)\n",
        "\n",
        "    def fit(self, X, y):\n",
        "        self.weights = tf.Variable(np.random.rand(X.shape[1]), dtype=tf.float32)\n",
        "        self.bias = tf.Variable(np.random.rand(), dtype=tf.float32)\n",
        "\n",
        "        X = tf.constant(X, dtype=tf.float32)\n",
        "\n",
        "        for _ in range(self.epochs):\n",
        "            y_pred = self.predict(X)\n",
        "            loss = tf.reduce_sum(tf.square(y - y_pred))\n",
        "\n",
        "            w_gradient = -tf.linalg.matvec(tf.transpose(X), (y - y_pred) * y_pred * (1. - y_pred))\n",
        "            b_gradient = -tf.reduce_sum((y - y_pred) * y_pred * (1. - y_pred))\n",
        "\n",
        "            self.weights.assign_sub(self.learning_rate * w_gradient)\n",
        "            self.bias.assign_sub(self.learning_rate * b_gradient)\n",
        "\n",
        "    def fit_tf_gradient(self, X, y):\n",
        "        self.weights = tf.Variable(np.random.rand(X.shape[1]), dtype=tf.float32)\n",
        "        self.bias = tf.Variable(np.random.rand(), dtype=tf.float32)\n",
        "\n",
        "        X = tf.constant(X, dtype=tf.float32)\n",
        "        y = tf.constant(y, dtype=tf.float32)\n",
        "\n",
        "        for _ in range(self.epochs):\n",
        "            with tf.GradientTape() as tape:\n",
        "                tape.watch(self.weights)\n",
        "                tape.watch(self.bias)\n",
        "\n",
        "                y_pred = self.predict(X)\n",
        "                loss = tf.reduce_sum(tf.square(y - y_pred))\n",
        "\n",
        "            gradients = tape.gradient(loss, [self.weights, self.bias])\n",
        "\n",
        "            # Apply gradients using gradient descent\n",
        "            self.weights.assign_sub(self.learning_rate * gradients[0])\n",
        "            self.bias.assign_sub(self.learning_rate * gradients[1])\n",
        ""
      ]
    },
    {
      "cell_type": "code",
      "execution_count": 48,
      "metadata": {
        "id": "wA2AfIkYZHtf",
        "outputId": "6cecc9c5-215e-46b5-d6af-386f3314447b",
        "colab": {
          "base_uri": "https://localhost:8080/"
        }
      },
      "outputs": [
        {
          "output_type": "stream",
          "name": "stdout",
          "text": [
            "0.984182776801406\n",
            "0.9876977152899824\n"
          ]
        }
      ],
      "source": [
        "from sklearn.datasets import load_breast_cancer\n",
        "from sklearn.preprocessing import scale\n",
        "\n",
        "X, y = load_breast_cancer(return_X_y=True)\n",
        "X = scale(X)\n",
        "\n",
        "X = tf.constant(X, dtype=tf.float32)\n",
        "\n",
        "perceptron = Perceptron(learning_rate=0.01, epochs=100)\n",
        "perceptron.fit(X, y)\n",
        "y_pred = perceptron.predict(X) >= 0.5\n",
        "print(np.mean(y_pred == y))\n",
        "\n",
        "perceptron_tf_gradient = Perceptron(learning_rate=0.01, epochs=100)\n",
        "perceptron_tf_gradient.fit_tf_gradient(X, y)\n",
        "y_pred_tf_gradient = perceptron_tf_gradient.predict(X) >= 0.5\n",
        "print(np.mean(y_pred_tf_gradient == y))"
      ]
    }
  ],
  "metadata": {
    "kernelspec": {
      "display_name": "base",
      "language": "python",
      "name": "python3"
    },
    "language_info": {
      "codemirror_mode": {
        "name": "ipython",
        "version": 3
      },
      "file_extension": ".py",
      "mimetype": "text/x-python",
      "name": "python",
      "nbconvert_exporter": "python",
      "pygments_lexer": "ipython3",
      "version": "3.11.10"
    },
    "colab": {
      "provenance": []
    }
  },
  "nbformat": 4,
  "nbformat_minor": 0
}