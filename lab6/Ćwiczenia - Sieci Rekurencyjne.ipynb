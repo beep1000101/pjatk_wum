{
 "cells": [
  {
   "cell_type": "markdown",
   "id": "e7db03cb",
   "metadata": {},
   "source": [
    "# Sieci rekurencyjne\n",
    "\n",
    "## Zadanie: Sieci rekurencyjne dla szeregów czasowych\n",
    "Zbiór `jena_climate_2009_2016.csv` zawiera dane klimatyczne próbkowane co 10 minut. \n",
    "1. Przygotuj dane do modelowania dzieląc zbiór na sekwencje składające się ze 120 pomiarów odpowiadających 5 dniom. Jako wartość docelową (`target`) ustaw temperaturę 24 godziny po końcu każdej sekwencji. Zastosuj metodę `timeseries_dataset_from_array()`. Skaluj dane i podziel je na zbiór treningowy, walidacyjny i testowy. \n",
    "2. Stwórz i wytrenuj sieć składającą się z warstw LSTM. Na wyjściu zastosuj warstwę `Dense(1)` i `mse` jako funkcję błędu.\n",
    "3. Zastosuj zbiór walidacyjny do porównania sieci o różnych architekturach. Testuj sieci z 1-2 warstwami LSTM o różnych wymiarach. Warstwy można regularyzować ustawiając parametr `recurrent_dropout`. Narysuj krzywe uczenia na danych treningowych i walidacyjnych. Następnie wykorzystaj zbiór testowy do ewaluacji wybranej sieci."
   ]
  },
  {
   "cell_type": "code",
   "execution_count": 1,
   "id": "47af872e",
   "metadata": {},
   "outputs": [
    {
     "data": {
      "application/vnd.microsoft.datawrangler.viewer.v0+json": {
       "columns": [
        {
         "name": "index",
         "rawType": "int64",
         "type": "integer"
        },
        {
         "name": "Date Time",
         "rawType": "object",
         "type": "string"
        },
        {
         "name": "p (mbar)",
         "rawType": "float64",
         "type": "float"
        },
        {
         "name": "T (degC)",
         "rawType": "float64",
         "type": "float"
        },
        {
         "name": "Tpot (K)",
         "rawType": "float64",
         "type": "float"
        },
        {
         "name": "Tdew (degC)",
         "rawType": "float64",
         "type": "float"
        },
        {
         "name": "rh (%)",
         "rawType": "float64",
         "type": "float"
        },
        {
         "name": "VPmax (mbar)",
         "rawType": "float64",
         "type": "float"
        },
        {
         "name": "VPact (mbar)",
         "rawType": "float64",
         "type": "float"
        },
        {
         "name": "VPdef (mbar)",
         "rawType": "float64",
         "type": "float"
        },
        {
         "name": "sh (g/kg)",
         "rawType": "float64",
         "type": "float"
        },
        {
         "name": "H2OC (mmol/mol)",
         "rawType": "float64",
         "type": "float"
        },
        {
         "name": "rho (g/m**3)",
         "rawType": "float64",
         "type": "float"
        },
        {
         "name": "wv (m/s)",
         "rawType": "float64",
         "type": "float"
        },
        {
         "name": "max. wv (m/s)",
         "rawType": "float64",
         "type": "float"
        },
        {
         "name": "wd (deg)",
         "rawType": "float64",
         "type": "float"
        }
       ],
       "ref": "f3501418-e57b-4558-baca-c70c28cd3f65",
       "rows": [
        [
         "0",
         "01.01.2009 00:10:00",
         "996.52",
         "-8.02",
         "265.4",
         "-8.9",
         "93.3",
         "3.33",
         "3.11",
         "0.22",
         "1.94",
         "3.12",
         "1307.75",
         "1.03",
         "1.75",
         "152.3"
        ],
        [
         "1",
         "01.01.2009 00:20:00",
         "996.57",
         "-8.41",
         "265.01",
         "-9.28",
         "93.4",
         "3.23",
         "3.02",
         "0.21",
         "1.89",
         "3.03",
         "1309.8",
         "0.72",
         "1.5",
         "136.1"
        ],
        [
         "2",
         "01.01.2009 00:30:00",
         "996.53",
         "-8.51",
         "264.91",
         "-9.31",
         "93.9",
         "3.21",
         "3.01",
         "0.2",
         "1.88",
         "3.02",
         "1310.24",
         "0.19",
         "0.63",
         "171.6"
        ],
        [
         "3",
         "01.01.2009 00:40:00",
         "996.51",
         "-8.31",
         "265.12",
         "-9.07",
         "94.2",
         "3.26",
         "3.07",
         "0.19",
         "1.92",
         "3.08",
         "1309.19",
         "0.34",
         "0.5",
         "198.0"
        ],
        [
         "4",
         "01.01.2009 00:50:00",
         "996.51",
         "-8.27",
         "265.15",
         "-9.04",
         "94.1",
         "3.27",
         "3.08",
         "0.19",
         "1.92",
         "3.09",
         "1309.0",
         "0.32",
         "0.63",
         "214.3"
        ]
       ],
       "shape": {
        "columns": 15,
        "rows": 5
       }
      },
      "text/html": [
       "<div>\n",
       "<style scoped>\n",
       "    .dataframe tbody tr th:only-of-type {\n",
       "        vertical-align: middle;\n",
       "    }\n",
       "\n",
       "    .dataframe tbody tr th {\n",
       "        vertical-align: top;\n",
       "    }\n",
       "\n",
       "    .dataframe thead th {\n",
       "        text-align: right;\n",
       "    }\n",
       "</style>\n",
       "<table border=\"1\" class=\"dataframe\">\n",
       "  <thead>\n",
       "    <tr style=\"text-align: right;\">\n",
       "      <th></th>\n",
       "      <th>Date Time</th>\n",
       "      <th>p (mbar)</th>\n",
       "      <th>T (degC)</th>\n",
       "      <th>Tpot (K)</th>\n",
       "      <th>Tdew (degC)</th>\n",
       "      <th>rh (%)</th>\n",
       "      <th>VPmax (mbar)</th>\n",
       "      <th>VPact (mbar)</th>\n",
       "      <th>VPdef (mbar)</th>\n",
       "      <th>sh (g/kg)</th>\n",
       "      <th>H2OC (mmol/mol)</th>\n",
       "      <th>rho (g/m**3)</th>\n",
       "      <th>wv (m/s)</th>\n",
       "      <th>max. wv (m/s)</th>\n",
       "      <th>wd (deg)</th>\n",
       "    </tr>\n",
       "  </thead>\n",
       "  <tbody>\n",
       "    <tr>\n",
       "      <th>0</th>\n",
       "      <td>01.01.2009 00:10:00</td>\n",
       "      <td>996.52</td>\n",
       "      <td>-8.02</td>\n",
       "      <td>265.40</td>\n",
       "      <td>-8.90</td>\n",
       "      <td>93.3</td>\n",
       "      <td>3.33</td>\n",
       "      <td>3.11</td>\n",
       "      <td>0.22</td>\n",
       "      <td>1.94</td>\n",
       "      <td>3.12</td>\n",
       "      <td>1307.75</td>\n",
       "      <td>1.03</td>\n",
       "      <td>1.75</td>\n",
       "      <td>152.3</td>\n",
       "    </tr>\n",
       "    <tr>\n",
       "      <th>1</th>\n",
       "      <td>01.01.2009 00:20:00</td>\n",
       "      <td>996.57</td>\n",
       "      <td>-8.41</td>\n",
       "      <td>265.01</td>\n",
       "      <td>-9.28</td>\n",
       "      <td>93.4</td>\n",
       "      <td>3.23</td>\n",
       "      <td>3.02</td>\n",
       "      <td>0.21</td>\n",
       "      <td>1.89</td>\n",
       "      <td>3.03</td>\n",
       "      <td>1309.80</td>\n",
       "      <td>0.72</td>\n",
       "      <td>1.50</td>\n",
       "      <td>136.1</td>\n",
       "    </tr>\n",
       "    <tr>\n",
       "      <th>2</th>\n",
       "      <td>01.01.2009 00:30:00</td>\n",
       "      <td>996.53</td>\n",
       "      <td>-8.51</td>\n",
       "      <td>264.91</td>\n",
       "      <td>-9.31</td>\n",
       "      <td>93.9</td>\n",
       "      <td>3.21</td>\n",
       "      <td>3.01</td>\n",
       "      <td>0.20</td>\n",
       "      <td>1.88</td>\n",
       "      <td>3.02</td>\n",
       "      <td>1310.24</td>\n",
       "      <td>0.19</td>\n",
       "      <td>0.63</td>\n",
       "      <td>171.6</td>\n",
       "    </tr>\n",
       "    <tr>\n",
       "      <th>3</th>\n",
       "      <td>01.01.2009 00:40:00</td>\n",
       "      <td>996.51</td>\n",
       "      <td>-8.31</td>\n",
       "      <td>265.12</td>\n",
       "      <td>-9.07</td>\n",
       "      <td>94.2</td>\n",
       "      <td>3.26</td>\n",
       "      <td>3.07</td>\n",
       "      <td>0.19</td>\n",
       "      <td>1.92</td>\n",
       "      <td>3.08</td>\n",
       "      <td>1309.19</td>\n",
       "      <td>0.34</td>\n",
       "      <td>0.50</td>\n",
       "      <td>198.0</td>\n",
       "    </tr>\n",
       "    <tr>\n",
       "      <th>4</th>\n",
       "      <td>01.01.2009 00:50:00</td>\n",
       "      <td>996.51</td>\n",
       "      <td>-8.27</td>\n",
       "      <td>265.15</td>\n",
       "      <td>-9.04</td>\n",
       "      <td>94.1</td>\n",
       "      <td>3.27</td>\n",
       "      <td>3.08</td>\n",
       "      <td>0.19</td>\n",
       "      <td>1.92</td>\n",
       "      <td>3.09</td>\n",
       "      <td>1309.00</td>\n",
       "      <td>0.32</td>\n",
       "      <td>0.63</td>\n",
       "      <td>214.3</td>\n",
       "    </tr>\n",
       "  </tbody>\n",
       "</table>\n",
       "</div>"
      ],
      "text/plain": [
       "             Date Time  p (mbar)  T (degC)  Tpot (K)  Tdew (degC)  rh (%)  \\\n",
       "0  01.01.2009 00:10:00    996.52     -8.02    265.40        -8.90    93.3   \n",
       "1  01.01.2009 00:20:00    996.57     -8.41    265.01        -9.28    93.4   \n",
       "2  01.01.2009 00:30:00    996.53     -8.51    264.91        -9.31    93.9   \n",
       "3  01.01.2009 00:40:00    996.51     -8.31    265.12        -9.07    94.2   \n",
       "4  01.01.2009 00:50:00    996.51     -8.27    265.15        -9.04    94.1   \n",
       "\n",
       "   VPmax (mbar)  VPact (mbar)  VPdef (mbar)  sh (g/kg)  H2OC (mmol/mol)  \\\n",
       "0          3.33          3.11          0.22       1.94             3.12   \n",
       "1          3.23          3.02          0.21       1.89             3.03   \n",
       "2          3.21          3.01          0.20       1.88             3.02   \n",
       "3          3.26          3.07          0.19       1.92             3.08   \n",
       "4          3.27          3.08          0.19       1.92             3.09   \n",
       "\n",
       "   rho (g/m**3)  wv (m/s)  max. wv (m/s)  wd (deg)  \n",
       "0       1307.75      1.03           1.75     152.3  \n",
       "1       1309.80      0.72           1.50     136.1  \n",
       "2       1310.24      0.19           0.63     171.6  \n",
       "3       1309.19      0.34           0.50     198.0  \n",
       "4       1309.00      0.32           0.63     214.3  "
      ]
     },
     "execution_count": 1,
     "metadata": {},
     "output_type": "execute_result"
    }
   ],
   "source": [
    "import pandas as pd\n",
    "from sklearn.preprocessing import StandardScaler\n",
    "import tensorflow as tf\n",
    "\n",
    "df = pd.read_csv(\"jena_climate_2009_2016.csv\")\n",
    "df.head()"
   ]
  },
  {
   "cell_type": "code",
   "execution_count": 2,
   "id": "45035110",
   "metadata": {},
   "outputs": [],
   "source": [
    "X = df.drop(columns=\"Date Time\").to_numpy()\n",
    "y = df[\"T (degC)\"].to_numpy()\n",
    "\n",
    "N = X.shape[0]\n",
    "train_size = int(0.5 * N)\n",
    "val_size = int(0.25 * N)\n",
    "test_size = N - train_size - val_size\n",
    "\n",
    "scaler = StandardScaler()\n",
    "scaler.fit(X[:train_size])\n",
    "X = scaler.transform(X)"
   ]
  },
  {
   "cell_type": "code",
   "execution_count": 3,
   "id": "92748f28",
   "metadata": {},
   "outputs": [],
   "source": [
    "sampling_rate = 6 # resample hourly\n",
    "sequence_length = 120 # input sequences span 120 hours = 5 days\n",
    "delay = sampling_rate * (sequence_length + 24 - 1) # targets delayed by 24h\n",
    "batch_size = 256\n",
    "\n",
    "train_data = tf.keras.utils.timeseries_dataset_from_array(\n",
    "    X[:-delay],\n",
    "    targets=y[delay:],\n",
    "    sampling_rate=sampling_rate,\n",
    "    sequence_length=sequence_length,\n",
    "    shuffle=True,\n",
    "    batch_size=batch_size,\n",
    "    start_index=0,\n",
    "    end_index=train_size\n",
    ")\n",
    "\n",
    "val_data = tf.keras.utils.timeseries_dataset_from_array(\n",
    "    X[:-delay],\n",
    "    targets=y[delay:],\n",
    "    sampling_rate=sampling_rate,\n",
    "    sequence_length=sequence_length,\n",
    "    shuffle=True,\n",
    "    batch_size=batch_size,\n",
    "    start_index=train_size,\n",
    "    end_index=(train_size + val_size)\n",
    ")\n",
    "\n",
    "test_data = tf.keras.utils.timeseries_dataset_from_array(\n",
    "    X[:-delay],\n",
    "    targets=y[delay:],\n",
    "    sampling_rate=sampling_rate,\n",
    "    sequence_length=sequence_length,\n",
    "    shuffle=True,\n",
    "    batch_size=batch_size,\n",
    "    start_index=train_size + val_size,\n",
    ")"
   ]
  },
  {
   "cell_type": "code",
   "execution_count": 4,
   "id": "1746d494",
   "metadata": {},
   "outputs": [],
   "source": [
    "model = tf.keras.Sequential([\n",
    "    tf.keras.Input(shape=(sequence_length, X.shape[-1])),\n",
    "    tf.keras.layers.LSTM(16),\n",
    "    tf.keras.layers.Dense(1)\n",
    "])\n",
    "\n",
    "model.compile(optimizer=\"adam\",\n",
    "              loss=\"mse\",\n",
    "              metrics=[\"mae\"])"
   ]
  },
  {
   "cell_type": "code",
   "execution_count": 5,
   "id": "5869d4a3",
   "metadata": {},
   "outputs": [
    {
     "name": "stdout",
     "output_type": "stream",
     "text": [
      "Epoch 1/5\n",
      "\u001b[1m819/819\u001b[0m \u001b[32m━━━━━━━━━━━━━━━━━━━━\u001b[0m\u001b[37m\u001b[0m \u001b[1m51s\u001b[0m 61ms/step - loss: 81.3392 - mae: 6.8777 - val_loss: 17.4355 - val_mae: 3.1250\n",
      "Epoch 2/5\n",
      "\u001b[1m819/819\u001b[0m \u001b[32m━━━━━━━━━━━━━━━━━━━━\u001b[0m\u001b[37m\u001b[0m \u001b[1m62s\u001b[0m 76ms/step - loss: 15.9767 - mae: 3.0263 - val_loss: 11.5170 - val_mae: 2.6012\n",
      "Epoch 3/5\n",
      "\u001b[1m819/819\u001b[0m \u001b[32m━━━━━━━━━━━━━━━━━━━━\u001b[0m\u001b[37m\u001b[0m \u001b[1m91s\u001b[0m 111ms/step - loss: 11.4291 - mae: 2.6160 - val_loss: 10.1496 - val_mae: 2.4811\n",
      "Epoch 4/5\n",
      "\u001b[1m819/819\u001b[0m \u001b[32m━━━━━━━━━━━━━━━━━━━━\u001b[0m\u001b[37m\u001b[0m \u001b[1m98s\u001b[0m 120ms/step - loss: 10.4344 - mae: 2.5197 - val_loss: 9.3087 - val_mae: 2.3709\n",
      "Epoch 5/5\n",
      "\u001b[1m819/819\u001b[0m \u001b[32m━━━━━━━━━━━━━━━━━━━━\u001b[0m\u001b[37m\u001b[0m \u001b[1m70s\u001b[0m 86ms/step - loss: 9.7019 - mae: 2.4271 - val_loss: 9.3669 - val_mae: 2.3742\n"
     ]
    },
    {
     "data": {
      "text/plain": [
       "<keras.src.callbacks.history.History at 0x17ff843d0>"
      ]
     },
     "execution_count": 5,
     "metadata": {},
     "output_type": "execute_result"
    }
   ],
   "source": [
    "model.fit(train_data,\n",
    "          validation_data=val_data,\n",
    "          epochs=5)"
   ]
  },
  {
   "cell_type": "markdown",
   "id": "61e2476a",
   "metadata": {},
   "source": [
    "## Zadanie: Przetwarzanie tekstu sieciami rekurencyjnymi\n",
    "\n",
    "1. Zbiór `aclImdb` zawiera przykłady pozytywnych (`pos`) i negatywnych (`neg`) recenzji filmów. Wczytaj zbiór za pomocą metody `text_dataset_from_directory()`. Dane są podzielone na zbiór treningowy i testowy - należy wczytać je osobno.\n",
    "2. Stwórz warstwę `TextVectorization` z parametrem `output_modes='int'` i zastosuj metodę `adapt()` aby wygenerować słownik na podstawie zbioru treningowego. \n",
    "3. Stwórz sieć LSTM i zastosuj ją do klasyfikacji recenzji. Bezpośrednio po warstwie wejściowej dodaj stworzoną wcześniej warstwę `TextVectorization`. Bezpośrednio po niej dodaj warstwę wektoryzującą słowa z tekstów. Może być to na przykład warstwa `Embedding`. Na wyjściu sieci dodaj warstwę `Dense(1, activation='sigmoid')`.\n",
    "4. Porównaj działanie sieci rekurencyjnych o różnych architekturach. Zamiast warstw LSTM można stosować też warstwy GRU. Do regularyzaji warstw można stosować `recurrent_dropout`. Narysuj krzywe uczenia na danych treningowych i walidacyjnych."
   ]
  },
  {
   "cell_type": "code",
   "execution_count": 6,
   "id": "d3497aa9",
   "metadata": {},
   "outputs": [
    {
     "name": "stdout",
     "output_type": "stream",
     "text": [
      "Found 25000 files belonging to 2 classes.\n",
      "Found 25000 files belonging to 2 classes.\n"
     ]
    }
   ],
   "source": [
    "import tensorflow as tf\n",
    "\n",
    "batch_size = 32\n",
    "\n",
    "train_data = tf.keras.utils.text_dataset_from_directory(\n",
    "    \"aclImdb/train\", batch_size=batch_size\n",
    ")\n",
    "\n",
    "valid_data = tf.keras.utils.text_dataset_from_directory(\n",
    "    \"aclImdb/test\", batch_size=batch_size\n",
    ")"
   ]
  },
  {
   "cell_type": "code",
   "execution_count": 7,
   "id": "837c83dc",
   "metadata": {},
   "outputs": [
    {
     "name": "stderr",
     "output_type": "stream",
     "text": [
      "2025-05-30 23:27:56.623348: I tensorflow/core/framework/local_rendezvous.cc:404] Local rendezvous is aborting with status: OUT_OF_RANGE: End of sequence\n"
     ]
    }
   ],
   "source": [
    "max_tokens = 5000\n",
    "max_len = 600\n",
    "\n",
    "text_vectorization = tf.keras.layers.TextVectorization(output_mode=\"int\", max_tokens=max_tokens, output_sequence_length=max_len)\n",
    "text_vectorization.adapt(train_data.map(lambda x, y: x))"
   ]
  },
  {
   "cell_type": "code",
   "execution_count": 8,
   "id": "314b60ac",
   "metadata": {},
   "outputs": [
    {
     "name": "stdout",
     "output_type": "stream",
     "text": [
      "Epoch 1/5\n",
      "\u001b[1m782/782\u001b[0m \u001b[32m━━━━━━━━━━━━━━━━━━━━\u001b[0m\u001b[37m\u001b[0m \u001b[1m243s\u001b[0m 309ms/step - accuracy: 0.7193 - loss: 0.5374 - val_accuracy: 0.8526 - val_loss: 0.3634\n",
      "Epoch 2/5\n",
      "\u001b[1m782/782\u001b[0m \u001b[32m━━━━━━━━━━━━━━━━━━━━\u001b[0m\u001b[37m\u001b[0m \u001b[1m152s\u001b[0m 195ms/step - accuracy: 0.8700 - loss: 0.3155 - val_accuracy: 0.8744 - val_loss: 0.2987\n",
      "Epoch 3/5\n",
      "\u001b[1m782/782\u001b[0m \u001b[32m━━━━━━━━━━━━━━━━━━━━\u001b[0m\u001b[37m\u001b[0m \u001b[1m141s\u001b[0m 180ms/step - accuracy: 0.9067 - loss: 0.2407 - val_accuracy: 0.8512 - val_loss: 0.3330\n",
      "Epoch 4/5\n",
      "\u001b[1m782/782\u001b[0m \u001b[32m━━━━━━━━━━━━━━━━━━━━\u001b[0m\u001b[37m\u001b[0m \u001b[1m151s\u001b[0m 193ms/step - accuracy: 0.9230 - loss: 0.1999 - val_accuracy: 0.8226 - val_loss: 0.5118\n",
      "Epoch 5/5\n",
      "\u001b[1m782/782\u001b[0m \u001b[32m━━━━━━━━━━━━━━━━━━━━\u001b[0m\u001b[37m\u001b[0m \u001b[1m146s\u001b[0m 187ms/step - accuracy: 0.8777 - loss: 0.3063 - val_accuracy: 0.8635 - val_loss: 0.3588\n"
     ]
    },
    {
     "data": {
      "text/plain": [
       "<keras.src.callbacks.history.History at 0x31ba811d0>"
      ]
     },
     "execution_count": 8,
     "metadata": {},
     "output_type": "execute_result"
    }
   ],
   "source": [
    "model = tf.keras.Sequential([\n",
    "    tf.keras.layers.Input(shape=(1,), dtype=\"string\"),\n",
    "    text_vectorization,\n",
    "    tf.keras.layers.Embedding(input_dim=max_tokens, output_dim=128, mask_zero=True),\n",
    "    tf.keras.layers.LSTM(32),\n",
    "    tf.keras.layers.Dense(1, activation=\"sigmoid\"),\n",
    "])\n",
    "\n",
    "model.compile(\n",
    "    loss=\"binary_crossentropy\",\n",
    "    optimizer=\"adam\",\n",
    "    metrics=[\"accuracy\"],\n",
    ")\n",
    "\n",
    "model.fit(train_data, validation_data=valid_data, epochs=5)"
   ]
  }
 ],
 "metadata": {
  "kernelspec": {
   "display_name": "base",
   "language": "python",
   "name": "python3"
  },
  "language_info": {
   "codemirror_mode": {
    "name": "ipython",
    "version": 3
   },
   "file_extension": ".py",
   "mimetype": "text/x-python",
   "name": "python",
   "nbconvert_exporter": "python",
   "pygments_lexer": "ipython3",
   "version": "3.11.10"
  }
 },
 "nbformat": 4,
 "nbformat_minor": 5
}
